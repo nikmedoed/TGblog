{
 "cells": [
  {
   "cell_type": "code",
   "execution_count": null,
   "id": "2b7aaf7b",
   "metadata": {},
   "outputs": [],
   "source": [
    "import os\n",
    "from time import sleep\n",
    "\n",
    "from selenium import webdriver\n",
    "from webdriver_manager.chrome import ChromeDriverManager\n",
    "from selenium.webdriver.common.by import By\n",
    "\n",
    "from openpyxl import load_workbook\n",
    "from openpyxl import Workbook\n",
    "from openpyxl.utils import rows_from_range\n",
    "\n",
    "from collections import defaultdict\n",
    "from tqdm.notebook import tqdm\n",
    "from dataclasses import dataclass, field\n",
    "from rapidfuzz import fuzz\n",
    "\n",
    "dow = r'E:\\sirne\\Downloads'"
   ]
  },
  {
   "cell_type": "code",
   "execution_count": null,
   "id": "cefacc54",
   "metadata": {},
   "outputs": [],
   "source": [
    "browser = webdriver.Chrome(ChromeDriverManager().install())"
   ]
  },
  {
   "cell_type": "code",
   "execution_count": null,
   "id": "c29bdf02",
   "metadata": {},
   "outputs": [],
   "source": [
    "browser.get('https://audio-english.ru/frequencydict/s_1_po_500/')\n",
    "words = []\n",
    "prev_link = \"\"\n",
    "\n",
    "while browser.current_url != prev_link:\n",
    "    prev_link = browser.current_url\n",
    "\n",
    "    rows = browser.find_elements(By.TAG_NAME, \"tr\")[1:]\n",
    "    for r in rows:\n",
    "        td = r.find_elements(By.TAG_NAME, \"td\")\n",
    "        words.append([td[c].text for c in [2, 4, 7]])\n",
    "\n",
    "    nxt = browser.find_element(\n",
    "        By.CSS_SELECTOR, \"div.section.les-page-nav.clearfix\")\n",
    "    nxt = nxt.find_elements(By.TAG_NAME, \"li\")[-1]\n",
    "    nxt.click()"
   ]
  },
  {
   "cell_type": "code",
   "execution_count": null,
   "id": "5f35983e",
   "metadata": {},
   "outputs": [],
   "source": [
    "lines = [\"\\t\".join([f'\"{t.strip()}\"' if '\\n' in t else t.strip()\n",
    "                   for t in line]) for line in words]\n",
    "text = \"\\n\".join(lines)\n",
    "\n",
    "with open(f'{dow}\\\\words.txt', 'w', encoding='utf8') as f:\n",
    "    f.write(text)"
   ]
  },
  {
   "cell_type": "code",
   "execution_count": null,
   "id": "7e907af6",
   "metadata": {},
   "outputs": [],
   "source": []
  },
  {
   "cell_type": "code",
   "execution_count": null,
   "id": "0e163432",
   "metadata": {},
   "outputs": [],
   "source": [
    "result = Workbook()\n",
    "resSheet = result.active\n",
    "data_size = 0\n",
    "\n",
    "wb = load_workbook(f'{dow}\\\\2.xlsx')\n",
    "\n",
    "for sheet in wb:\n",
    "    for row in range(1, sheet.max_row+1):\n",
    "        for cell in range(1, sheet.max_column+1):\n",
    "            resSheet.cell(\n",
    "                row=data_size+row, column=cell).value = sheet.cell(row=row, column=cell).value\n",
    "    data_size += sheet.max_row\n",
    "\n",
    "result.save(f'{dow}\\\\words.xlsx')"
   ]
  },
  {
   "cell_type": "code",
   "execution_count": null,
   "id": "2c77434e",
   "metadata": {},
   "outputs": [],
   "source": []
  },
  {
   "cell_type": "code",
   "execution_count": null,
   "id": "b6deea74",
   "metadata": {},
   "outputs": [],
   "source": [
    "browser.get('https://www.englishclub.com/ref/Collocations/')"
   ]
  },
  {
   "cell_type": "code",
   "execution_count": null,
   "id": "eb5fbc2e",
   "metadata": {},
   "outputs": [],
   "source": [
    "pages = [el.find_element(By.TAG_NAME, 'a').get_attribute('href') for el in browser.find_element(\n",
    "    By.CSS_SELECTOR, \"#wide_cats\").find_elements(By.CSS_SELECTOR, \"dt.ec-big1\")[:-1]]"
   ]
  },
  {
   "cell_type": "code",
   "execution_count": null,
   "id": "a5269f3b",
   "metadata": {},
   "outputs": [],
   "source": [
    "print(ph, de)"
   ]
  },
  {
   "cell_type": "code",
   "execution_count": null,
   "id": "5543a274",
   "metadata": {},
   "outputs": [],
   "source": [
    "words = []\n",
    "\n",
    "for page in pages:\n",
    "    browser.get(page)\n",
    "    for el in browser.find_elements(By.CSS_SELECTOR, \"div.linklisting\"):\n",
    "        words.append([\n",
    "            el.find_element(By.CSS_SELECTOR, n).text.strip()\n",
    "            for n in [\".linktitle\", \".linkdescription\"\n",
    "                      ]])"
   ]
  },
  {
   "cell_type": "markdown",
   "id": "237acf15",
   "metadata": {},
   "source": []
  },
  {
   "cell_type": "code",
   "execution_count": null,
   "id": "0a38b8bb",
   "metadata": {},
   "outputs": [],
   "source": [
    "wb = load_workbook(f'{dow}\\\\wordsz.xlsx', read_only=True)"
   ]
  },
  {
   "cell_type": "code",
   "execution_count": null,
   "id": "0b4ae76a",
   "metadata": {},
   "outputs": [],
   "source": [
    "@dataclass\n",
    "class Word:\n",
    "    word: str = \"\"\n",
    "    translates: set = field(default_factory=set)\n",
    "    transcription: str = \"\"\n",
    "    comments: set = field(default_factory=set)\n",
    "    iscapital: bool = False\n",
    "\n",
    "    def __iadd__(self, row):\n",
    "        self.word = min(row[0], self.word) if self.word else row[0]\n",
    "        self.iscapital = self.word[0].istitle() or self.iscapital\n",
    "\n",
    "        trans = row[1]\n",
    "        if trans:\n",
    "            for i in list(self.translates):\n",
    "                tl, il = [j.lower() for j in [trans, i]]\n",
    "                if tl in il:\n",
    "                    break\n",
    "                if il in tl:\n",
    "                    self.translates.remove(i)\n",
    "            else:\n",
    "                self.translates.add(trans)\n",
    "\n",
    "        if row[2]:\n",
    "            r = row[2]\n",
    "            if fuzz.QRatio(r, self.transcription) > 25 or not self.transcription:\n",
    "                self.transcription = max(r, self.transcription)\n",
    "            else:\n",
    "                self.comments.add(r)\n",
    "\n",
    "        if row[3]:\n",
    "            self.comments.add(row[3])\n",
    "\n",
    "        return self"
   ]
  },
  {
   "cell_type": "code",
   "execution_count": null,
   "id": "271cfe5e",
   "metadata": {},
   "outputs": [],
   "source": [
    "def read_sheet(sheet, DataClass):\n",
    "    coll = defaultdict(lambda: DataClass())\n",
    "\n",
    "    with tqdm(total=sheet.max_row) as pbar:\n",
    "        for row in sheet.rows:\n",
    "            values = [str(cell.value).replace('\\xa0', ' ').strip()\n",
    "                      if cell.value else cell.value\n",
    "                      for cell in row]\n",
    "            if values[0]:\n",
    "                coll[values[0].lower()] += values\n",
    "            pbar.update(1)\n",
    "    return coll"
   ]
  },
  {
   "cell_type": "code",
   "execution_count": null,
   "id": "a63c5528",
   "metadata": {},
   "outputs": [],
   "source": [
    "coll = read_sheet(wb[wb.sheetnames[1]], Word)\n",
    "print(len(coll))"
   ]
  },
  {
   "cell_type": "code",
   "execution_count": null,
   "id": "fe52b802",
   "metadata": {},
   "outputs": [],
   "source": [
    "with open(f'{dow}\\\\words.txt', 'w', encoding='utf8') as f:\n",
    "    for c in coll:\n",
    "        if len(coll[c].translates) > 2:\n",
    "            l = list(coll[c].translates)\n",
    "            for i in range(len(l)-1):\n",
    "                for j in range(i+1, len(l)):\n",
    "                    r = fuzz.QRatio(l[i], l[j])\n",
    "                    if 0 < r < 100:\n",
    "                        f.write(\n",
    "                            f'{r:.2f}\\t\"{l[i]}\"\\t\"{l[j]}\"\\t\"{coll[c].transcription}\"\\n')\n",
    "#                         print(f\"{r:.2f}\\t'{l[i]}'\\t'{l[j]}'\")"
   ]
  },
  {
   "cell_type": "code",
   "execution_count": null,
   "id": "cba8e337",
   "metadata": {},
   "outputs": [],
   "source": [
    "with open(f'{dow}\\\\words_uniq.txt', 'w', encoding='utf8') as f, open(f'{dow}\\\\words.txt', 'w', encoding='utf8') as u, open(f'{dow}\\\\words_cap.txt', 'w', encoding='utf8') as cap:\n",
    "    for i in coll.values():\n",
    "        comment = \"\\n\".join(i.comments)\n",
    "        trans = \"\\n\".join(i.translates)\n",
    "        if not i.iscapital:\n",
    "            f.write(f'\"{i.word}\"\\t\"{trans}\"\\t\"{i.transcription}\"\\t\"{comment}\"\\n')\n",
    "            for tr in i.translates:\n",
    "                u.write(\n",
    "                    f'\"{i.word}\"\\t\"{tr}\"\\t\"{i.transcription}\"\\t\"{comment}\"\\n')\n",
    "        else:\n",
    "            cap.write(\n",
    "                f'\"{i.word}\"\\t\"{trans}\"\\t\"{i.transcription}\"\\t\"{comment}\"\\n')"
   ]
  },
  {
   "cell_type": "code",
   "execution_count": null,
   "id": "9ff968c2",
   "metadata": {},
   "outputs": [],
   "source": [
    "@dataclass\n",
    "class Phrase:\n",
    "    phrase: str = \"\"\n",
    "    translates: set = field(default_factory=set)\n",
    "\n",
    "    def __iadd__(self, row):\n",
    "        self.phrase = min(row[0], self.phrase) if self.phrase else row[0]\n",
    "\n",
    "        trans = row[1]\n",
    "        if trans:\n",
    "            for i in list(self.translates):\n",
    "                tl, il = [j.lower() for j in [trans, i]]\n",
    "                if tl in il:\n",
    "                    break\n",
    "                if il in tl:\n",
    "                    self.translates.remove(i)\n",
    "            else:\n",
    "                self.translates.add(trans)\n",
    "        return self"
   ]
  },
  {
   "cell_type": "code",
   "execution_count": null,
   "id": "ffbfadff",
   "metadata": {},
   "outputs": [],
   "source": [
    "phrases = read_sheet(wb[wb.sheetnames[2]], Phrase)\n",
    "print(len(phrases))"
   ]
  },
  {
   "cell_type": "code",
   "execution_count": null,
   "id": "bda70fb4",
   "metadata": {},
   "outputs": [],
   "source": [
    "p = phrases\n",
    "for i in p:\n",
    "    if len(p[i].translates) > 1:\n",
    "        print(i, len(p[i].translates), p[i].translates)"
   ]
  },
  {
   "cell_type": "code",
   "execution_count": null,
   "id": "7e9ece13",
   "metadata": {},
   "outputs": [],
   "source": [
    "with open(f'{dow}\\\\phrases.txt', 'w', encoding='utf8') as f:\n",
    "    for i in phrases.values():\n",
    "        trans = \"\\n\".join(i.translates)\n",
    "        f.write(f'\"{i.phrase}\"\\t\"{trans}\"\\n')"
   ]
  },
  {
   "cell_type": "code",
   "execution_count": null,
   "id": "abd9e322",
   "metadata": {},
   "outputs": [],
   "source": [
    "wb.close()"
   ]
  },
  {
   "cell_type": "code",
   "execution_count": null,
   "id": "140bd062",
   "metadata": {},
   "outputs": [],
   "source": []
  }
 ],
 "metadata": {
  "kernelspec": {
   "display_name": "Python 3 (ipykernel)",
   "language": "python",
   "name": "python3"
  },
  "language_info": {
   "codemirror_mode": {
    "name": "ipython",
    "version": 3
   },
   "file_extension": ".py",
   "mimetype": "text/x-python",
   "name": "python",
   "nbconvert_exporter": "python",
   "pygments_lexer": "ipython3",
   "version": "3.9.12"
  }
 },
 "nbformat": 4,
 "nbformat_minor": 5
}
