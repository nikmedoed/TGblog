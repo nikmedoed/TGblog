{
 "cells": [
  {
   "cell_type": "code",
   "execution_count": 1,
   "id": "9618e8d8",
   "metadata": {},
   "outputs": [],
   "source": [
    "from telethon.sync import TelegramClient\n",
    "from telethon.tl.functions.contacts import ResolveUsernameRequest\n",
    "from telethon.tl.functions.channels import GetMessagesRequest\n",
    "from telethon.tl.functions.messages import GetHistoryRequest, ReadHistoryRequest\n",
    "from telethon import functions, types\n",
    "from datetime import date, datetime\n",
    "from time import sleep\n",
    "import os\n",
    "import glob\n",
    "from random import random\n",
    "import re\n",
    "import asyncio\n",
    "from tqdm.notebook import tqdm\n",
    "import pandas as pd\n",
    "import json"
   ]
  },
  {
   "cell_type": "markdown",
   "id": "09554b7b",
   "metadata": {},
   "source": [
    "### Этот блок нужно заполнить вашими значениями"
   ]
  },
  {
   "cell_type": "code",
   "execution_count": 2,
   "id": "d58e2197",
   "metadata": {},
   "outputs": [],
   "source": [
    "# Замените на ваши данные, брать на my.telegram.org\n",
    "api_id, api_hash = open('../../tg_api_id.txt', 'r').read().split()\n",
    "\n",
    "my_channel = 'etonikmedoed'"
   ]
  },
  {
   "cell_type": "code",
   "execution_count": 3,
   "id": "8f4a802a",
   "metadata": {},
   "outputs": [],
   "source": [
    "client = TelegramClient('anon', api_id, api_hash)\n",
    "await client.start()\n",
    "\n",
    "\n",
    "def log_error(text):\n",
    "    print(text)\n",
    "    with open(\"log_err.txt\", \"a+\", encoding=\"utf8\") as f:\n",
    "        f.write(f\"{text}\\n\")"
   ]
  },
  {
   "cell_type": "code",
   "execution_count": 4,
   "id": "6731adb0",
   "metadata": {},
   "outputs": [],
   "source": [
    "channel = await client.get_entity(my_channel)"
   ]
  },
  {
   "cell_type": "code",
   "execution_count": 5,
   "id": "b196f5fd",
   "metadata": {},
   "outputs": [],
   "source": [
    "class DateTimeEncoder(json.JSONEncoder):\n",
    "    '''Класс для сериализации записи дат в JSON'''\n",
    "\n",
    "    def default(self, o):\n",
    "        if isinstance(o, datetime):\n",
    "            return o.isoformat()\n",
    "        if isinstance(o, bytes):\n",
    "            return list(o)\n",
    "        return json.JSONEncoder.default(self, o)\n",
    "\n",
    "\n",
    "async def dump_all_messages(channel):\n",
    "    \"\"\"Записывает json-файл с информацией о всех сообщениях канала/чата\"\"\"\n",
    "    offset_msg = 0    # номер записи, с которой начинается считывание\n",
    "    limit_msg = 100   # максимальное число записей, передаваемых за один раз\n",
    "\n",
    "    all_messages = []   # список всех сообщений\n",
    "    total_messages = 0\n",
    "    total_count_limit = 0  # поменяйте это значение, если вам нужны не все сообщения\n",
    "\n",
    "    while True:\n",
    "        history = await client(GetHistoryRequest(\n",
    "            peer=channel,\n",
    "            offset_id=offset_msg,\n",
    "            offset_date=None, add_offset=0,\n",
    "            limit=limit_msg, max_id=0, min_id=0,\n",
    "            hash=0))\n",
    "        if not history.messages:\n",
    "            break\n",
    "        messages = history.messages\n",
    "        all_messages.extend(messages)\n",
    "        offset_msg = messages[len(messages) - 1].id\n",
    "        total_messages = len(all_messages)\n",
    "        if total_count_limit != 0 and total_messages >= total_count_limit:\n",
    "            break\n",
    "    return all_messages"
   ]
  },
  {
   "cell_type": "code",
   "execution_count": 6,
   "id": "ff149c17",
   "metadata": {},
   "outputs": [],
   "source": [
    "all_messages = await dump_all_messages(channel)\n",
    "\n",
    "# with open('channel_messages.json', 'w', encoding='utf8') as outfile:\n",
    "#      json.dump([message.to_dict() for message in all_messages:], outfile, ensure_ascii=False, cls=DateTimeEncoder)"
   ]
  },
  {
   "cell_type": "code",
   "execution_count": 7,
   "id": "ade0562c",
   "metadata": {},
   "outputs": [
    {
     "data": {
      "text/plain": [
       "{'MessageEntityBold',\n",
       " 'MessageEntityHashtag',\n",
       " 'MessageEntityItalic',\n",
       " 'MessageEntityStrike',\n",
       " 'MessageEntityTextUrl',\n",
       " 'MessageEntityUnderline'}"
      ]
     },
     "execution_count": 7,
     "metadata": {},
     "output_type": "execute_result"
    }
   ],
   "source": [
    "entity_types = set()\n",
    "\n",
    "for m in reversed(all_messages):\n",
    "    for e in m.entities or []:\n",
    "        entity_types.add(e.to_dict().get('_'))\n",
    "\n",
    "entity_types"
   ]
  },
  {
   "cell_type": "markdown",
   "id": "6162cd23",
   "metadata": {},
   "source": [
    "Если для типа не будет ниже функции, то будет использоваться дефолтная. Допишите необходмые функции."
   ]
  },
  {
   "cell_type": "code",
   "execution_count": 8,
   "id": "a55f5e28",
   "metadata": {},
   "outputs": [],
   "source": [
    "MDformats = {\n",
    "    'MessageEntity': \"{text}\",\n",
    "    'MessageEntityBold': \"<strong>{text}</strong>\",\n",
    "    'MessageEntityItalic': \"<em>{text}</em>\",\n",
    "    'MessageEntityStrike': \"<del>{text}</del>\",\n",
    "    'MessageEntityTextUrl': \"[{text}]({entity.url})\",\n",
    "    'MessageEntityUnderline': \"<ins>{text}</ins>\"\n",
    "}"
   ]
  },
  {
   "cell_type": "code",
   "execution_count": 12,
   "id": "fcbfe8f3",
   "metadata": {},
   "outputs": [],
   "source": [
    "csv_header = \"Имя,Статус,Раздел,Теги,Пост в телеграм,Дата поста\".split(\n",
    "    \",\")\n",
    "sheet = pd.DataFrame(columns=csv_header)\n",
    "\n",
    "for m in reversed(all_messages):\n",
    "    if m.message:\n",
    "        name = m.message.split('\\n')[0].replace('&#8203;', '')\n",
    "        tags = []\n",
    "\n",
    "        text = []\n",
    "        start = 0\n",
    "        for e in m.entities or []:\n",
    "\n",
    "            offset = e.offset\n",
    "            while 0 < offset < len(m.message) and re.search(\"\\s\", m.message[offset]):\n",
    "                offset += 1\n",
    "\n",
    "            text.append(m.message[start:offset])\n",
    "\n",
    "            start = e.offset+e.length\n",
    "            while 0 < start < len(m.message) and re.search(\"\\s\", m.message[start-1]):\n",
    "                start -= 1\n",
    "\n",
    "            part = m.message[offset:start]\n",
    "\n",
    "            etype = e.to_dict().get('_')\n",
    "            if etype == 'MessageEntityHashtag':\n",
    "                tags.append(part.replace('#', '').replace(\n",
    "                    '_', ' ').capitalize())\n",
    "                part = part.replace('#', '\\#')\n",
    "            text.append(MDformats.get(\n",
    "                etype, MDformats['MessageEntity']).format(text=part, entity=e))\n",
    "        text.append(m.message[start:])\n",
    "\n",
    "        sheet.loc[len(sheet)] = [\n",
    "            name,\n",
    "            \"Опубликовано\",\n",
    "            \"Прочее\",\n",
    "            \", \".join(tags),\n",
    "            f\"https://t.me/{my_channel}/{m.id}\",\n",
    "            m.date.strftime(\"%B %d, %Y %H:%M\")\n",
    "        ]\n",
    "        with open(f\"postsMD/{m.id:04} - {re.sub('[:*?”<>|]','',name[:100])}.md\", 'w', encoding='utf8') as f:\n",
    "            text = \"\".join(text)\n",
    "            text = re.sub('\\n-', \"\\n\\n-\", text)\n",
    "            text = re.sub('\\n\\*', \"\\n\\n\\*\", text)\n",
    "            f.write(text)\n",
    "\n",
    "sheet.to_excel('posts.xlsx')"
   ]
  }
 ],
 "metadata": {
  "kernelspec": {
   "display_name": "Python 3.9.12 ('base')",
   "language": "python",
   "name": "python3"
  },
  "language_info": {
   "codemirror_mode": {
    "name": "ipython",
    "version": 3
   },
   "file_extension": ".py",
   "mimetype": "text/x-python",
   "name": "python",
   "nbconvert_exporter": "python",
   "pygments_lexer": "ipython3",
   "version": "3.9.12"
  },
  "vscode": {
   "interpreter": {
    "hash": "2df27cf7d91293938ee3730b9e35c7a045061ea0bcdd838b7ae4093e9bce70f8"
   }
  }
 },
 "nbformat": 4,
 "nbformat_minor": 5
}
