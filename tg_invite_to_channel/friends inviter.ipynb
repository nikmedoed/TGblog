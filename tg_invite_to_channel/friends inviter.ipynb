{
 "cells": [
  {
   "cell_type": "code",
   "execution_count": null,
   "id": "ec1745b1",
   "metadata": {},
   "outputs": [],
   "source": [
    "from telethon.sync import TelegramClient\n",
    "from telethon.tl.functions.contacts import ResolveUsernameRequest\n",
    "from telethon.tl.functions.channels import GetMessagesRequest\n",
    "from telethon.tl.functions.messages import GetHistoryRequest, ReadHistoryRequest \n",
    "from telethon import functions, types\n",
    "import datetime\n",
    "from time import sleep\n",
    "import os\n",
    "import glob\n",
    "from random import random\n",
    "import re\n",
    "import asyncio\n",
    "from tqdm.notebook import tqdm\n",
    "import pandas as pd "
   ]
  },
  {
   "cell_type": "markdown",
   "id": "2f44241e",
   "metadata": {},
   "source": [
    "### Этот блок нужно заполнить вашими значениями"
   ]
  },
  {
   "cell_type": "code",
   "execution_count": null,
   "id": "760927e5",
   "metadata": {},
   "outputs": [],
   "source": [
    "# Замените на ваши данные, брать на my.telegram.org\n",
    "api_id, api_hash = open('../../tg_api_id.txt', 'r').read().split()\n",
    "\n",
    "my_channel = 'etonikmedoed'\n",
    "\n",
    "# Файл с вашим сообщением, поддерживается telegram-форматирование в формате html\n",
    "message_file = \"message.txt\""
   ]
  },
  {
   "cell_type": "code",
   "execution_count": null,
   "id": "ea26777c",
   "metadata": {},
   "outputs": [],
   "source": [
    "client= TelegramClient('anon', api_id, api_hash)\n",
    "await client.start()"
   ]
  },
  {
   "cell_type": "code",
   "execution_count": 6,
   "id": "2b2e0bc4",
   "metadata": {},
   "outputs": [],
   "source": [
    "def log_error(text):\n",
    "    print(text)\n",
    "    with open(\"log_err.txt\", \"a+\", encoding=\"utf8\") as f:\n",
    "        f.write(f\"{text}\\n\")   "
   ]
  },
  {
   "cell_type": "code",
   "execution_count": null,
   "id": "2771a01d",
   "metadata": {},
   "outputs": [],
   "source": [
    "# получить все групповые чаты \n",
    "result = await  client(functions.messages.GetAllChatsRequest(except_ids=[]))\n",
    "[i.title for i in result.chats]"
   ]
  },
  {
   "cell_type": "code",
   "execution_count": null,
   "id": "3747a7be",
   "metadata": {},
   "outputs": [],
   "source": [
    "# все контакты\n",
    "contacts = await client(functions.contacts.GetContactsRequest(hash=0))"
   ]
  },
  {
   "cell_type": "code",
   "execution_count": null,
   "id": "efabdf0e",
   "metadata": {},
   "outputs": [],
   "source": [
    "# контакты, с которыми есть в истории более 30 сообщений\n",
    "\n",
    "users=[]\n",
    "for user in tqdm(contacts.users):\n",
    "    if (await client.get_messages(user, 10)).total>30:\n",
    "        users.append(user)\n",
    "    await asyncio.sleep(0.5)"
   ]
  },
  {
   "cell_type": "code",
   "execution_count": null,
   "id": "a2a07b07",
   "metadata": {},
   "outputs": [],
   "source": [
    "# Подписки на канале\n",
    "result = await client(functions.channels.GetParticipantsRequest(\n",
    "        channel=my_channel,\n",
    "        filter=types.ChannelParticipantsRecent(),\n",
    "        offset=0,\n",
    "        limit=100,\n",
    "        hash=0\n",
    "    ))\n",
    "channelusers = result.users\n",
    "chuid = [u.id for u in channelusers]"
   ]
  },
  {
   "cell_type": "code",
   "execution_count": null,
   "id": "9c24b229",
   "metadata": {},
   "outputs": [],
   "source": [
    "# Все отобранные выше контакты, что ещё не подписались, сохраняем в таблицу\n",
    "\n",
    "db = pd.DataFrame.from_records([s.to_dict() for s in users if s.id not in chuid])\n",
    "d = db[['first_name','last_name','username','phone',\"id\"]]\n",
    "d.to_excel(\"to_invite.xlsx\")"
   ]
  },
  {
   "cell_type": "markdown",
   "id": "90f39167",
   "metadata": {},
   "source": [
    "### Почистите таблицу руками от тех контактов, которых стесняетесь приглашать"
   ]
  },
  {
   "cell_type": "code",
   "execution_count": null,
   "id": "ef417fc0",
   "metadata": {},
   "outputs": [],
   "source": [
    "# Почистили таблицу руками, загружаем обратно\n",
    "# ещё разок фильтруем от участников, \n",
    "# получаем список на приглашения\n",
    "\n",
    "data =pd.read_excel('invite_ok.xlsx')\n",
    "invite = data.loc[~data.id.isin(chuid), : ]"
   ]
  },
  {
   "cell_type": "code",
   "execution_count": null,
   "id": "e853e931",
   "metadata": {},
   "outputs": [],
   "source": [
    "print(invite.count())\n",
    "invite"
   ]
  },
  {
   "cell_type": "code",
   "execution_count": null,
   "id": "2d3d51aa",
   "metadata": {},
   "outputs": [],
   "source": [
    "# шлём всем приглашения всем из списка\n",
    "\n",
    "for n, userl in enumerate(invite.values.tolist()):    \n",
    "    message = open(message_file,\"r\", encoding=\"utf-8\").read().split(\"=====\")\n",
    "    try:\n",
    "        user = await client.get_entity(userl[-1])  \n",
    "        notif = f\"{user.first_name} {user.last_name} {user.username} {user.id}\"\n",
    "        print(f\"start {notif}\")\n",
    "\n",
    "        await asyncio.sleep(4+random()*5)\n",
    "        try:\n",
    "            await client.send_message(user, message[0], parse_mode=\"html\")\n",
    "          \n",
    "            with open(\"log_notificated.txt\", \"a+\") as log_ok:\n",
    "                log_ok.write(f\"{notif}\\n\")\n",
    "        except Exception as e:\n",
    "            log_error(f\"{n} - error, err: {e}\")\n",
    "    except:\n",
    "        log_error(f\"{n} - not found\")\n",
    "print(\"ok\")"
   ]
  }
 ],
 "metadata": {
  "kernelspec": {
   "display_name": "Python 3 (ipykernel)",
   "language": "python",
   "name": "python3"
  },
  "language_info": {
   "codemirror_mode": {
    "name": "ipython",
    "version": 3
   },
   "file_extension": ".py",
   "mimetype": "text/x-python",
   "name": "python",
   "nbconvert_exporter": "python",
   "pygments_lexer": "ipython3",
   "version": "3.9.7"
  }
 },
 "nbformat": 4,
 "nbformat_minor": 5
}
