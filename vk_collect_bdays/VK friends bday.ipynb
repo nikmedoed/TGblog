{
 "cells": [
  {
   "cell_type": "code",
   "execution_count": null,
   "id": "e1696c02",
   "metadata": {},
   "outputs": [],
   "source": [
    "import pandas as pd\n",
    "import vk_api"
   ]
  },
  {
   "cell_type": "code",
   "execution_count": null,
   "id": "71ef303d",
   "metadata": {},
   "outputs": [],
   "source": [
    "def auth_handler():\n",
    "    key = input(\"Enter authentication code: \")\n",
    "    remember_device = True\n",
    "    return key, remember_device\n",
    "\n",
    "# замените своими логином и паролем\n",
    "login, password = open('../../vk_login_pass.txt', 'r').read().split()\n",
    "\n",
    "vk_session = vk_api.VkApi(login, password,auth_handler=auth_handler)\n",
    "try:\n",
    "    vk_session.auth(token_only=True)\n",
    "except vk_api.AuthError as error_msg:\n",
    "    print(error_msg)"
   ]
  },
  {
   "cell_type": "markdown",
   "id": "7f0e39ab",
   "metadata": {},
   "source": [
    "#### Получаем информацию о друзьях\n",
    "Этот метод соберёт информацию вообще обо всех друзьях"
   ]
  },
  {
   "cell_type": "code",
   "execution_count": null,
   "id": "2780d761",
   "metadata": {},
   "outputs": [],
   "source": [
    "tools = vk_api.VkTools(vk_session)\n",
    "# список полей можете поменять самостоятельно, https://dev.vk.com/method/friends.get\n",
    "friends = tools.get_all_slow(\n",
    "    'friends.get',\n",
    "    100,\n",
    "    {'fields': \"nickname,sex,bdate,city,country,has_mobile,contacts,education,universities\"}\n",
    ")\n",
    "\n",
    "friends = pd.DataFrame(friends['items'])\n",
    "def f(s): \n",
    "    return type(s) == dict and s.get(\"title\")    \n",
    "    \n",
    "friends.city = friends.city.apply(f)       \n",
    "friends.country = friends.country.apply(f)\n",
    "friends.head()"
   ]
  },
  {
   "cell_type": "code",
   "execution_count": null,
   "id": "f3709a3c",
   "metadata": {},
   "outputs": [],
   "source": [
    "friends.to_excel(\"all_friends.xlsx\")"
   ]
  },
  {
   "cell_type": "markdown",
   "id": "e3c24a03",
   "metadata": {},
   "source": [
    "#### Отфильтруем общий список\n",
    "У меня есть своя база контактов. Я фиксирую людей, с которыми получается общаться лично. Также есть бот, который напоминает поздравлять их с днями рождения. \n",
    "В файлике `base.txt` у меня построчно имена знакомых, чьи др мне нужно извлечь."
   ]
  },
  {
   "cell_type": "code",
   "execution_count": null,
   "id": "c5150a4e",
   "metadata": {},
   "outputs": [],
   "source": [
    "with open(\"base.txt\",\"r\", encoding=\"utf8\") as f:\n",
    "    base = pd.DataFrame(f.read().split(\"\\n\"))\n",
    "base[['last_name','first_name']] = base[0].str.split(expand=True)\n",
    "base"
   ]
  },
  {
   "cell_type": "code",
   "execution_count": null,
   "id": "5c151d8f",
   "metadata": {},
   "outputs": [],
   "source": [
    "contact_base = pd.merge(base,friends, on=['first_name','last_name'], how='left')\n",
    "contact_base.bdate = pd.to_datetime(\n",
    "    contact_base.bdate, \n",
    "    infer_datetime_format=False, \n",
    "    format='%d.%m.%Y', \n",
    "    errors='ignore'\n",
    ")\n",
    "\n",
    "# Полученные данные я просто вставлю в свою базу\n",
    "contact_base.to_excel(\"contact_base.xlsx\")\n",
    "\n",
    "contact_base"
   ]
  }
 ],
 "metadata": {
  "kernelspec": {
   "display_name": "Python 3 (ipykernel)",
   "language": "python",
   "name": "python3"
  },
  "language_info": {
   "codemirror_mode": {
    "name": "ipython",
    "version": 3
   },
   "file_extension": ".py",
   "mimetype": "text/x-python",
   "name": "python",
   "nbconvert_exporter": "python",
   "pygments_lexer": "ipython3",
   "version": "3.9.7"
  }
 },
 "nbformat": 4,
 "nbformat_minor": 5
}
