{
 "cells": [
  {
   "cell_type": "code",
   "execution_count": null,
   "id": "cc970329",
   "metadata": {},
   "outputs": [],
   "source": [
    "import pandas as pd\n",
    "import matplotlib as mpl\n",
    "import matplotlib.pyplot as plt\n",
    "import numpy as np\n",
    "from matplotlib.ticker import (AutoMinorLocator, MultipleLocator)"
   ]
  },
  {
   "cell_type": "code",
   "execution_count": null,
   "id": "5f89f4fc",
   "metadata": {},
   "outputs": [],
   "source": [
    "def prepare_data(file):\n",
    "    df = pd.read_csv(\n",
    "        file, \n",
    "        parse_dates=True,  \n",
    "        index_col=\"datetime\", \n",
    "        sep=\",\"\n",
    "    )\n",
    "    df.index = [df.index.date, df.index.time]\n",
    "    df = df.rename_axis(['date', 'time'])\n",
    "    df.fillna(False, inplace=True)\n",
    "    return df\n",
    "\n",
    "base_title = \"группа ВМКтв\"\n",
    "df = prepare_data(\"unique_online_group_log.csv\")    \n",
    "\n",
    "df"
   ]
  },
  {
   "cell_type": "code",
   "execution_count": null,
   "id": "aa6cad76",
   "metadata": {},
   "outputs": [],
   "source": [
    "# df.info()\n",
    "count_all_users = len(df.columns)\n",
    "were_online = [i for i in list(df.columns.values) if df[i].value_counts().get(True)]\n",
    "count_were_online = len(were_online)\n",
    "\n",
    "analyzed_dates = df.index.get_level_values('date').unique()[1:-1]\n",
    "counters_bytime = df.apply(np.sum,axis=1)\n",
    "\n",
    "interpolated_data = counters_bytime.rolling(window=30, center=True).mean()\n",
    "interpolated_data = interpolated_data.unstack().transpose().interpolate(limit_direction = 'both')[analyzed_dates]\n",
    "\n",
    "transposed_data = counters_bytime.unstack().transpose().interpolate(limit_direction = 'both')[analyzed_dates]\n",
    "interpolated_data_mean = transposed_data.mean(axis=1).rolling(window=30, center=True).mean()\n",
    "max_online = transposed_data.max().round().astype(np.integer) \n"
   ]
  },
  {
   "cell_type": "code",
   "execution_count": null,
   "id": "b30c8047",
   "metadata": {},
   "outputs": [],
   "source": []
  },
  {
   "cell_type": "code",
   "execution_count": null,
   "id": "b31cd253",
   "metadata": {},
   "outputs": [],
   "source": [
    "def all_one_plot(ax, a_df):\n",
    "    ax = a_df.plot(ax=ax, legend=\"date\", grid=True)\n",
    "    ax.figure.autofmt_xdate()\n",
    "    \n",
    "    ax.set_xlabel(\"Время\", fontsize=18)\n",
    "    ax.set_ylabel(\"Число активных пользователей\", fontsize=18)\n",
    "    \n",
    "    ax.set_xlim(0, interpolated_data.index[-1])\n",
    "    ax.set_ylim(0, interpolated_data.max().max())\n",
    "\n",
    "    ax.xaxis.set_major_locator(MultipleLocator(3600))\n",
    "    ax.yaxis.set_major_locator(MultipleLocator(5))\n",
    "\n",
    "    ax.xaxis.set_minor_locator(AutoMinorLocator(2))\n",
    "    ax.yaxis.set_minor_locator(AutoMinorLocator(5))\n",
    "\n",
    "    ax.grid(which='major', color='#CCCCCC', linestyle='-.')\n",
    "    ax.grid(which='minor', color='#CCCCCC', linestyle=':')\n",
    "\n",
    "    return ax\n",
    "\n",
    "\n",
    "fig, ax = plt.subplots(figsize=(20, 10))\n",
    "\n",
    "\n",
    "interpolated_data_mean.plot(ax=ax, color=color,zorder=len(max_online)+1, linewidth=3, label='mean')\n",
    "ar = all_one_plot(ax, interpolated_data)\n",
    "\n",
    "ax.legend([\n",
    "   'Сглаженное среднее', *[\n",
    "        f'{i[0]},  пик: {i[1]} ( {i[2]:.1%} )'\n",
    "        for i in zip(max_online.index, max_online, max_online /\n",
    "                     count_all_users)\n",
    "    ] \n",
    "], title='Графики сглажены, (пики скрылись)')\n",
    "\n",
    "ax.set_title(f\"Онлайн подписчиков по дням (уверенный онлайн) :: {base_title}\", fontsize=20)\n",
    "\n",
    "plt.tight_layout()\n",
    "fig.savefig(\"img/смешанные графики.png\", dpi=300)"
   ]
  },
  {
   "cell_type": "code",
   "execution_count": null,
   "id": "3f7021c6",
   "metadata": {},
   "outputs": [],
   "source": [
    "text = f\"\"\"\n",
    "Всего подписчиков :: {count_all_users}\n",
    "'Живых' пользователей :: {count_were_online} ( {count_were_online/count_all_users:.2%} )\n",
    "Зрители ленты (в сети каждый день >10 мин) :: {'sdsdf'}\n",
    "\n",
    "Максимальный онлайн в моменте: {max_online.min()}-{max_online.max()} ( {max_online.min()/count_all_users:.1%}-{max_online.max()/count_all_users:.1%} )\n",
    "\n",
    "\"\"\"\n",
    "print(text)"
   ]
  },
  {
   "cell_type": "code",
   "execution_count": null,
   "id": "73cf553e",
   "metadata": {},
   "outputs": [],
   "source": [
    " \n",
    "Средний день\n",
    "\n",
    "Средний день по дням недели (одна неделя)\n",
    "\n",
    "\n",
    "Преобразовать таблицу\n",
    "- Удалдить тех, кто не каждый день был\n",
    "- Удалить тех, кто за день суммарно был меньше 20 раз\n",
    "- чтобы для каждого пользователя была определена вероятность встретить его в определённый промежуток времени 10 мин. \n",
    "\n",
    "\n"
   ]
  },
  {
   "cell_type": "raw",
   "id": "04b515b8",
   "metadata": {},
   "source": [
    "2 шт - Графики по дням на одном, сглаженные с легендой\n",
    "2 шт - Графики среднее, по будням и выходным, сглаженные с легендой\n",
    "1 шт - Наложение средних графиков для меня и вмктв\n",
    "\n",
    "частота\n",
    "распределение\n",
    "стабильность появления\n",
    "\n",
    "+ Пиковые моменты"
   ]
  },
  {
   "cell_type": "code",
   "execution_count": null,
   "id": "fb0641b0",
   "metadata": {},
   "outputs": [],
   "source": [
    "for i in df:\n",
    "    print(i)\n",
    "len(df.columns)"
   ]
  },
  {
   "cell_type": "code",
   "execution_count": null,
   "id": "36d0cc18",
   "metadata": {
    "scrolled": true
   },
   "outputs": [],
   "source": [
    "df.me.plot(\n",
    "    figsize=(20, 8), \n",
    "    x=\"time\", \n",
    "    y=\"me\", \n",
    "    legend='date'\n",
    ")\n",
    "ax.figure.autofmt_xdate()"
   ]
  },
  {
   "cell_type": "code",
   "execution_count": null,
   "id": "8f6a866a",
   "metadata": {},
   "outputs": [],
   "source": [
    "df.cmctvc.plot(figsize=(20, 8))"
   ]
  }
 ],
 "metadata": {
  "kernelspec": {
   "display_name": "Python 3 (ipykernel)",
   "language": "python",
   "name": "python3"
  },
  "language_info": {
   "codemirror_mode": {
    "name": "ipython",
    "version": 3
   },
   "file_extension": ".py",
   "mimetype": "text/x-python",
   "name": "python",
   "nbconvert_exporter": "python",
   "pygments_lexer": "ipython3",
   "version": "3.9.7"
  }
 },
 "nbformat": 4,
 "nbformat_minor": 5
}
