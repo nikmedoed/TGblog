{
 "cells": [
  {
   "cell_type": "code",
   "execution_count": null,
   "id": "cc970329",
   "metadata": {},
   "outputs": [],
   "source": [
    "import pandas as pd\n",
    "import matplotlib as mpl\n",
    "import matplotlib.pyplot as plt\n",
    "import numpy as np"
   ]
  },
  {
   "cell_type": "code",
   "execution_count": null,
   "id": "5f89f4fc",
   "metadata": {},
   "outputs": [],
   "source": [
    "df = pd.read_csv(\"log.csv\", parse_dates=True,  index_col=\"date\", sep=\"\\t\")\n",
    "df.index = [df.index.date, df.index.time]\n",
    "df = df.rename_axis(['date', 'time'])\n",
    "df"
   ]
  },
  {
   "cell_type": "raw",
   "id": "04b515b8",
   "metadata": {},
   "source": [
    "2 шт - Графики по дням на одном, сглаженные с легендой\n",
    "2 шт - Графики среднее, по будням и выходным, сглаженные с легендой\n",
    "1 шт - Наложение средних графиков для меня и вмктв\n",
    "\n",
    "+ Пиковые моменты"
   ]
  },
  {
   "cell_type": "code",
   "execution_count": null,
   "id": "238856cd",
   "metadata": {},
   "outputs": [],
   "source": [
    "# добавить подписи дни недели\n",
    "# добавить больше обозначений на оси x\n",
    "\n",
    "\n",
    "def all_one_plot(ax, a_df):\n",
    "    a_df = a_df.rolling(window=30, center=True).mean()\n",
    "    a_df = a_df.unstack().transpose().interpolate() \n",
    "    ax = a_df.plot(\n",
    "        ax=ax, \n",
    "        legend=\"date\",   \n",
    "        grid=True\n",
    "    )\n",
    "    ax.figure.autofmt_xdate()\n",
    "    ax.set_xlabel(\"Время\", fontsize = 18)\n",
    "    ax.set_ylabel(\"Число активных пользователей\", fontsize = 18)\n",
    "    return ax\n",
    "\n",
    "fig, axes = plt.subplots(\n",
    "    figsize=(20, 20),\n",
    "    nrows=len(df.columns), \n",
    "    ncols=1\n",
    ")\n",
    "\n",
    "# fig = plt.figure(\n",
    "    \n",
    "# #     dpi=300\n",
    "# )\n",
    "for n, name in enumerate(df):\n",
    "    ax = axes[n] \n",
    "    all_one_plot(ax,df[name])\n",
    "    ax.set_title(name, fontsize = 20);\n",
    "\n",
    "plt.tight_layout()\n",
    "fig.savefig(\"img/смешанные графики.png\", dpi=300)"
   ]
  },
  {
   "cell_type": "code",
   "execution_count": null,
   "id": "fb0641b0",
   "metadata": {},
   "outputs": [],
   "source": [
    "for i in df:\n",
    "    print(i)\n",
    "len(df.columns)"
   ]
  },
  {
   "cell_type": "code",
   "execution_count": null,
   "id": "36d0cc18",
   "metadata": {
    "scrolled": true
   },
   "outputs": [],
   "source": [
    "df.me.plot(\n",
    "    figsize=(20, 8), \n",
    "    x=\"time\", \n",
    "    y=\"me\", \n",
    "    legend='date'\n",
    ")\n",
    "ax.figure.autofmt_xdate()"
   ]
  },
  {
   "cell_type": "code",
   "execution_count": null,
   "id": "8f6a866a",
   "metadata": {},
   "outputs": [],
   "source": [
    "df.cmctvc.plot(figsize=(20, 8))"
   ]
  }
 ],
 "metadata": {
  "kernelspec": {
   "display_name": "Python 3 (ipykernel)",
   "language": "python",
   "name": "python3"
  },
  "language_info": {
   "codemirror_mode": {
    "name": "ipython",
    "version": 3
   },
   "file_extension": ".py",
   "mimetype": "text/x-python",
   "name": "python",
   "nbconvert_exporter": "python",
   "pygments_lexer": "ipython3",
   "version": "3.9.7"
  }
 },
 "nbformat": 4,
 "nbformat_minor": 5
}
